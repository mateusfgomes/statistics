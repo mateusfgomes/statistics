{
  "nbformat": 4,
  "nbformat_minor": 0,
  "metadata": {
    "colab": {
      "name": "Lista Estat.ipynb",
      "provenance": [],
      "collapsed_sections": [],
      "authorship_tag": "ABX9TyNxGXAmOGn1+CcFIGGTTlre",
      "include_colab_link": true
    },
    "kernelspec": {
      "name": "python3",
      "display_name": "Python 3"
    }
  },
  "cells": [
    {
      "cell_type": "markdown",
      "metadata": {
        "id": "view-in-github",
        "colab_type": "text"
      },
      "source": [
        "<a href=\"https://colab.research.google.com/github/mateusfgomes/statistics/blob/master/quartis.ipynb\" target=\"_parent\"><img src=\"https://colab.research.google.com/assets/colab-badge.svg\" alt=\"Open In Colab\"/></a>"
      ]
    },
    {
      "cell_type": "code",
      "metadata": {
        "colab": {
          "base_uri": "https://localhost:8080/"
        },
        "id": "TnM5Y7Q-1Ivo",
        "outputId": "5a99bb6e-4216-45d7-86a6-a6b2a9c7cd47"
      },
      "source": [
        "import numpy as np\r\n",
        "\r\n",
        "classes = [1,3,5,7]\r\n",
        "freq = [15,14,11]\r\n",
        "quantil = 3\r\n",
        "amplitude = classes[1] - classes[0]\r\n",
        "\r\n",
        "p = (quantil/4)* np.sum(freq)\r\n",
        "\r\n",
        "i = 0\r\n",
        "li = 0\r\n",
        "j = 0\r\n",
        "save = 0\r\n",
        "\r\n",
        "while(i < p):\r\n",
        "    save = i\r\n",
        "    i += freq[j]\r\n",
        "    j += 1\r\n",
        "\r\n",
        "j -= 1\r\n",
        "\r\n",
        "li = classes[j]\r\n",
        "\r\n",
        "print(\"Li: \", li)\r\n",
        "print(\"I: \", i)\r\n",
        "print(\"Fi: \", save)\r\n",
        "print(\"fi: \", freq[j])\r\n",
        "print(\"-----------------------------------------\")\r\n",
        "print(\"Resposta: \", li + (((p-save))*amplitude)/freq[j])\r\n"
      ],
      "execution_count": 3,
      "outputs": [
        {
          "output_type": "stream",
          "text": [
            "Li:  5\n",
            "I:  40\n",
            "Fi:  29\n",
            "fi:  11\n",
            "-----------------------------------------\n",
            "Resposta:  5.181818181818182\n"
          ],
          "name": "stdout"
        }
      ]
    }
  ]
}